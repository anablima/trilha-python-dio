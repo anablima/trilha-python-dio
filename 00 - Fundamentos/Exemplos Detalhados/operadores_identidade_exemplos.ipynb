{
 "cells": [
  {
   "cell_type": "markdown",
   "id": "f4bbcb36",
   "metadata": {},
   "source": [
    "# Operadores de Identidade\n",
    "\n",
    "Os operadores de identidade (`is` e `is not`) são usados para verificar se duas variáveis referem-se ao **mesmo objeto** na memória, ou seja, se possuem a mesma identidade. Isso é diferente do operador de igualdade (`==`), que verifica se os objetos têm o mesmo **valor**.\n",
    "\n",
    "A função integrada `id()` pode ser usada para obter a identidade (endereço de memória) de um objeto, que é o que os operadores `is` e `is not` comparam."
   ]
  },
  {
   "cell_type": "markdown",
   "id": "c532685b",
   "metadata": {},
   "source": [
    "## Exemplo 1: Comparando Listas (Onde `is` é Falso, mas `==` é Verdadeiro)\n",
    "\n",
    "**Cenário Prático:** Você precisa verificar se duas listas, mesmo tendo o mesmo conteúdo, são *entidades separadas* na memória, prevenindo alterações acidentais de uma afetando a outra."
   ]
  },
  {
   "cell_type": "code",
   "execution_count": 1,
   "id": "5e8ef0d0",
   "metadata": {},
   "outputs": [
    {
     "name": "stdout",
     "output_type": "stream",
     "text": [
      "lista_a == lista_b: True\n",
      "lista_a is lista_b: False\n",
      "lista_a is lista_c: True\n"
     ]
    }
   ],
   "source": [
    "lista_a = [1, 2, 3]\n",
    "lista_b = [1, 2, 3]\n",
    "lista_c = lista_a  # lista_c agora aponta para o MESMO objeto que lista_a\n",
    "\n",
    "# 1. Comparação de Valor (Conteúdo)\n",
    "print(f\"lista_a == lista_b: {lista_a == lista_b}\") \n",
    "# Resultado: True (Os valores são iguais: [1, 2, 3] é igual a [1, 2, 3])\n",
    "\n",
    "# 2. Comparação de Identidade (Objeto na Memória)\n",
    "print(f\"lista_a is lista_b: {lista_a is lista_b}\") \n",
    "# Resultado: False (lista_a e lista_b são OBJETOS diferentes na memória, \n",
    "# embora tenham o mesmo conteúdo. id(lista_a) != id(lista_b))\n",
    "\n",
    "# 3. Comparação de Identidade (O mesmo objeto)\n",
    "print(f\"lista_a is lista_c: {lista_a is lista_c}\") \n",
    "# Resultado: True (lista_c foi ATRIBUÍDA a lista_a, então ambas apontam para o MESMO objeto. \n",
    "# id(lista_a) == id(lista_c))"
   ]
  },
  {
   "cell_type": "markdown",
   "id": "2194aa10",
   "metadata": {},
   "source": [
    "\n",
    "**Explicação Prática:** Em Python, listas são objetos mutáveis (podem ser alterados). Criar `lista_a` e `lista_b` separadamente aloca duas áreas distintas na memória, mesmo que o conteúdo seja idêntico. O `is` detecta essa diferença. Se você usar `is not` aqui, `lista_a is not lista_b` seria **True**, confirmando que são objetos distintos."
   ]
  },
  {
   "cell_type": "markdown",
   "id": "c282c681",
   "metadata": {},
   "source": [
    "## Exemplo 2: Verificando se um Objeto é `None`\n",
    "\n",
    "**Cenário Prático:** Este é o uso mais comum e recomendado do operador `is`. Você precisa verificar se uma variável está vazia (não aponta para nada) ou se uma função retornou o valor nulo de Python, que é `None`."
   ]
  },
  {
   "cell_type": "code",
   "execution_count": 2,
   "id": "9b0d51ad",
   "metadata": {},
   "outputs": [
    {
     "name": "stdout",
     "output_type": "stream",
     "text": [
      "Aviso: Usuário não encontrado, dados são None.\n",
      "Erro: A busca retornou o objeto None.\n"
     ]
    }
   ],
   "source": [
    "dados_do_usuario = None \n",
    "\n",
    "# Simulação de uma função que retorna dados ou None\n",
    "def buscar_dados(id_usuario):\n",
    "    if id_usuario == 101:\n",
    "        return {\"nome\": \"Alice\", \"idade\": 30}\n",
    "    else:\n",
    "        return None \n",
    "\n",
    "dados_do_usuario = buscar_dados(id_usuario=999)\n",
    "\n",
    "# Uso recomendado: SEMPRE use 'is None' para verificar o valor None\n",
    "if dados_do_usuario is None:\n",
    "    print(\"Aviso: Usuário não encontrado, dados são None.\")\n",
    "\n",
    "# Usando 'is not None' para verificação positiva\n",
    "if dados_do_usuario is not None:\n",
    "    print(\"Sucesso: Dados do usuário encontrados.\") \n",
    "else:\n",
    "    print(\"Erro: A busca retornou o objeto None.\")"
   ]
  },
  {
   "cell_type": "markdown",
   "id": "0027257d",
   "metadata": {},
   "source": [
    "\n",
    "**Explicação Prática:** `None` é um *singleton* em Python (existe apenas uma instância desse objeto na memória). Portanto, usar `is None` é a maneira idiomática (correta e esperada) e mais rápida de verificar se uma variável é o objeto nulo, em vez de `== None`."
   ]
  },
  {
   "cell_type": "markdown",
   "id": "8286f88d",
   "metadata": {},
   "source": [
    "## Exemplo 3: Comparando Variáveis Imutáveis (Inteiros)\n",
    "\n",
    "**Cenário Prático:** Entender uma otimização de memória do Python (chamada \"interning\" ou \"caching\") para pequenos inteiros (geralmente entre -5 e 256)."
   ]
  },
  {
   "cell_type": "code",
   "execution_count": 3,
   "id": "2da392cb",
   "metadata": {},
   "outputs": [
    {
     "name": "stdout",
     "output_type": "stream",
     "text": [
      "num_a is num_b: True\n",
      "num_x is num_y: False\n",
      "Confirmação: 300 e 300, embora iguais em valor, não são o mesmo objeto de memória.\n"
     ]
    }
   ],
   "source": [
    "# Inteiros pequenos (Otimização do Python)\n",
    "num_a = 100\n",
    "num_b = 100\n",
    "\n",
    "# Inteiros grandes (Geralmente NÃO otimizado)\n",
    "num_x = 300\n",
    "num_y = 300\n",
    "\n",
    "print(f\"num_a is num_b: {num_a is num_b}\") \n",
    "# Resultado: True (Python REUTILIZA o mesmo objeto na memória para \n",
    "# pequenos inteiros para economizar memória.)\n",
    "\n",
    "print(f\"num_x is num_y: {num_x is num_y}\")\n",
    "# Resultado: False (Para inteiros maiores, Python geralmente cria objetos \n",
    "# separados, a menos que sejam criados em uma única linha, mas é mais seguro \n",
    "# assumir que NÃO são o mesmo objeto.)\n",
    "\n",
    "# Verificando com is not\n",
    "if num_x is not num_y:\n",
    "    print(\"Confirmação: 300 e 300, embora iguais em valor, não são o mesmo objeto de memória.\")"
   ]
  },
  {
   "cell_type": "markdown",
   "id": "feedd634",
   "metadata": {},
   "source": [
    "**Explicação Prática:** Este exemplo demonstra que, ao usar o `is`, você está dependendo de detalhes de implementação (como o *caching* de inteiros). Para comparações de valor, **sempre** use o operador `==` (`num_x == num_y` sempre seria `True`). O uso do `is` aqui serve mais para fins didáticos e para entender o porquê de, às vezes, ele retornar `True` inesperadamente para valores simples."
   ]
  },
  {
   "cell_type": "markdown",
   "id": "d856197c",
   "metadata": {},
   "source": [
    "## Exemplo 4: Implementando um Cache Básico\n",
    "\n",
    "**Cenário Prático:** Em estruturas de dados ou lógica de *caching*, você pode querer garantir que um objeto recém-criado não seja o mesmo que um objeto em cache, ou garantir que a mesma referência a um objeto *singleton* seja usada."
   ]
  },
  {
   "cell_type": "code",
   "execution_count": 4,
   "id": "c9907f6c",
   "metadata": {},
   "outputs": [
    {
     "name": "stdout",
     "output_type": "stream",
     "text": [
      "Sucesso: O objeto em cache (config_1) e o novo objeto (config_2) são diferentes na memória.\n"
     ]
    }
   ],
   "source": [
    "cache = {}\n",
    "\n",
    "class Config:\n",
    "    def __init__(self, settings):\n",
    "        self.settings = settings\n",
    "\n",
    "# Criando objetos\n",
    "config_1 = Config({\"tema\": \"escuro\"})\n",
    "config_2 = Config({\"tema\": \"escuro\"}) # Mesmo valor de settings\n",
    "\n",
    "# Armazenando o primeiro na cache\n",
    "cache[\"default\"] = config_1\n",
    "\n",
    "# Comparação do objeto em cache com um novo objeto de mesmo valor\n",
    "if cache[\"default\"] is config_2:\n",
    "    print(\"Erro de Cache: O objeto em cache e o novo são o mesmo (referência incorreta).\")\n",
    "else:\n",
    "    # 'is not' confirma que um novo objeto foi criado, mesmo com valores iguais.\n",
    "    if cache[\"default\"] is not config_2:\n",
    "        print(\"Sucesso: O objeto em cache (config_1) e o novo objeto (config_2) são diferentes na memória.\")"
   ]
  },
  {
   "cell_type": "markdown",
   "id": "800edace",
   "metadata": {},
   "source": [
    "**Explicação Prática:** Neste exemplo, usamos `is not` para confirmar que `config_1` e `config_2` são instâncias de classes separadas (objetos distintos) na memória, mesmo que seus atributos (`.settings`) sejam idênticos em valor. Isso é fundamental para garantir que a manipulação de `config_2` não afete a configuração armazenada no `cache[\"default\"]`."
   ]
  },
  {
   "cell_type": "markdown",
   "id": "3e8ce6ad",
   "metadata": {},
   "source": []
  }
 ],
 "metadata": {
  "kernelspec": {
   "display_name": ".venv (3.13.2)",
   "language": "python",
   "name": "python3"
  },
  "language_info": {
   "codemirror_mode": {
    "name": "ipython",
    "version": 3
   },
   "file_extension": ".py",
   "mimetype": "text/x-python",
   "name": "python",
   "nbconvert_exporter": "python",
   "pygments_lexer": "ipython3",
   "version": "3.13.2"
  }
 },
 "nbformat": 4,
 "nbformat_minor": 5
}
