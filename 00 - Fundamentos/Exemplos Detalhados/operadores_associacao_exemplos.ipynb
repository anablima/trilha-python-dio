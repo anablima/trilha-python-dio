{
 "cells": [
  {
   "cell_type": "markdown",
   "id": "0ea7159f",
   "metadata": {},
   "source": [
    "# Operadores de Associação\n",
    "\n",
    "Os operadores de associação (`in` e `not in`) são ferramentas essenciais para verificar a presença de um elemento em uma coleção, o que é uma das operações mais comuns na programação diária.\n",
    "\n",
    "Os operadores de associação são usados para verificar se um valor está presente em uma sequência (como listas, tuplas, strings, dicionários ou conjuntos). Eles retornam `True` ou `False`."
   ]
  },
  {
   "cell_type": "markdown",
   "id": "a7cb43de",
   "metadata": {},
   "source": [
    "## Exemplo 1: Verificando Permissões de Usuário em uma Lista (Listas e Tuplas)\n",
    "\n",
    "**Cenário Prático:** Em um sistema de controle de acesso (login), você precisa verificar rapidamente se um usuário possui uma determinada permissão ou se uma função é permitida para ele."
   ]
  },
  {
   "cell_type": "code",
   "execution_count": 1,
   "id": "fd79a44d",
   "metadata": {},
   "outputs": [
    {
     "name": "stdout",
     "output_type": "stream",
     "text": [
      "Sucesso: A permissão 'excluir' está incluída.\n",
      "Segurança: A permissão 'administrar' não está presente (acesso negado, o que é bom).\n"
     ]
    }
   ],
   "source": [
    "# Permissões do usuário logado\n",
    "permissoes_usuario = [\"editar\", \"visualizar\", \"excluir\", \"configurar\"]\n",
    "\n",
    "# Permissão que estamos verificando\n",
    "permissao_necessaria = \"excluir\"\n",
    "permissao_proibida = \"administrar\"\n",
    "\n",
    "# Uso de 'in' para verificar se a permissão existe\n",
    "if permissao_necessaria in permissoes_usuario:\n",
    "    print(f\"Sucesso: A permissão '{permissao_necessaria}' está incluída.\")\n",
    "else:\n",
    "    print(f\"Erro: A permissão '{permissao_necessaria}' não foi encontrada.\")\n",
    "\n",
    "# Uso de 'not in' para garantir que uma permissão não está presente\n",
    "if permissao_proibida not in permissoes_usuario:\n",
    "    print(f\"Segurança: A permissão '{permissao_proibida}' não está presente (acesso negado, o que é bom).\")"
   ]
  },
  {
   "cell_type": "markdown",
   "id": "1b9f916a",
   "metadata": {},
   "source": [
    "**Explicação Prática:** Este é o uso mais básico e comum. Em vez de percorrer toda a lista manualmente com um loop, o `in` faz isso de forma concisa e otimizada, retornando instantaneamente um valor booleano (verdadeiro ou falso) sobre a presença do item."
   ]
  },
  {
   "cell_type": "markdown",
   "id": "0ca654d9",
   "metadata": {},
   "source": [
    "## Exemplo 2: Validação de Entrada de Dados (Strings)\n",
    "\n",
    "**Cenário Prático:** Ao processar entradas de texto (como emails, URLs ou senhas), você precisa verificar se uma substring específica está presente ou ausente para validar a entrada."
   ]
  },
  {
   "cell_type": "code",
   "execution_count": 2,
   "id": "1845212d",
   "metadata": {},
   "outputs": [
    {
     "name": "stdout",
     "output_type": "stream",
     "text": [
      "Validação 1: O email 'usuario.teste@dominio.com.br' parece ser válido.\n",
      "Validação 2: A URL 'https://meusite.com/pagina' está OK.\n"
     ]
    }
   ],
   "source": [
    "email_digitado = \"usuario.teste@dominio.com.br\"\n",
    "url_digitada = \"https://meusite.com/pagina\"\n",
    "\n",
    "# 1. Uso de 'in' para verificar a presença de um caractere ou substring (Emails)\n",
    "if \"@\" in email_digitado and \".\" in email_digitado:\n",
    "    print(f\"Validação 1: O email '{email_digitado}' parece ser válido.\")\n",
    "else:\n",
    "    print(\"Validação 1: O email não contém '@' e/ou '.'.\")\n",
    "\n",
    "# 2. Uso de 'not in' para garantir a ausência de caracteres indesejados (URLs)\n",
    "caracteres_invalidos = [\" \", \"!\", \"$\", \"*\"]\n",
    "valido = True\n",
    "for char in caracteres_invalidos:\n",
    "    if char in url_digitada: # Verificando a presença de um caractere inválido\n",
    "        valido = False\n",
    "        break\n",
    "\n",
    "if valido and \"http\" in url_digitada: # Re-uso do 'in' para confirmar protocolo\n",
    "    print(f\"Validação 2: A URL '{url_digitada}' está OK.\")\n",
    "else:\n",
    "    print(\"Validação 2: A URL contém caracteres inválidos ou falta 'http'.\")"
   ]
  },
  {
   "cell_type": "markdown",
   "id": "27f31ad0",
   "metadata": {},
   "source": [
    "**Explicação Prática:** Os operadores `in` e `not in` funcionam com strings para verificar a associação de substrings. É uma forma clara e eficiente de verificar a conformidade de dados de entrada sem a necessidade de usar expressões regulares complexas para testes simples."
   ]
  },
  {
   "cell_type": "markdown",
   "id": "d4c8075a",
   "metadata": {},
   "source": [
    "\n",
    "## Exemplo 3: Acesso a Chaves em Dicionários\n",
    "\n",
    "**Cenário Prático:** Antes de tentar acessar um valor em um dicionário (o que pode causar um erro `KeyError` se a chave não existir), você precisa verificar se a chave está presente."
   ]
  },
  {
   "cell_type": "code",
   "execution_count": 3,
   "id": "62599732",
   "metadata": {},
   "outputs": [
    {
     "name": "stdout",
     "output_type": "stream",
     "text": [
      "Chave encontrada! Valor: pt_br\n",
      "Chave 'notificacoes' ausente, valor padrão definido: padrão\n"
     ]
    }
   ],
   "source": [
    "configuracoes_app = {\n",
    "    \"tema\": \"claro\",\n",
    "    \"idioma\": \"pt_br\",\n",
    "    \"logs_habilitados\": True\n",
    "}\n",
    "\n",
    "chave_para_acessar = \"idioma\"\n",
    "chave_ausente = \"notificacoes\"\n",
    "\n",
    "# Uso de 'in' para evitar um KeyError\n",
    "if chave_para_acessar in configuracoes_app:\n",
    "    print(f\"Chave encontrada! Valor: {configuracoes_app[chave_para_acessar]}\")\n",
    "else:\n",
    "    print(f\"Chave '{chave_para_acessar}' não encontrada no dicionário.\")\n",
    "\n",
    "# Uso de 'not in' para definir um valor padrão\n",
    "if chave_ausente not in configuracoes_app:\n",
    "    configuracoes_app[chave_ausente] = \"padrão\"\n",
    "    print(f\"Chave '{chave_ausente}' ausente, valor padrão definido: {configuracoes_app[chave_ausente]}\")"
   ]
  },
  {
   "cell_type": "markdown",
   "id": "af30b766",
   "metadata": {},
   "source": [
    "**Explicação Prática:** Ao usar `in` com um dicionário, o Python verifica as **chaves** (keys) por padrão. Isso é crucial para prevenir falhas no programa, garantindo que o código só tente acessar um valor se a chave realmente existir, usando o `in` como uma validação de segurança."
   ]
  },
  {
   "cell_type": "markdown",
   "id": "425f9c64",
   "metadata": {},
   "source": [
    "## Exemplo 4: Filtragem de Dados (Conjuntos e Performance)\n",
    "\n",
    "**Cenário Prático:** Você tem uma grande lista de itens e uma \"lista negra\" (blacklist) de elementos que devem ser ignorados. Usar conjuntos (`set`) com `in` é a maneira mais rápida de fazer essa filtragem."
   ]
  },
  {
   "cell_type": "code",
   "execution_count": 4,
   "id": "ef49c79d",
   "metadata": {},
   "outputs": [
    {
     "name": "stdout",
     "output_type": "stream",
     "text": [
      "ALERTA: IP 192.168.1.10 está na lista de bloqueados.\n",
      "IP 203.0.113.5 verificado e permitido.\n",
      "IP 10.0.0.1 verificado e permitido.\n",
      "IP 203.0.113.5 verificado e permitido.\n"
     ]
    }
   ],
   "source": [
    "# Lista de IPs que tentaram acessar o sistema\n",
    "ips_tentativa = [\"192.168.1.10\", \"203.0.113.5\", \"10.0.0.1\", \"203.0.113.5\"]\n",
    "\n",
    "# Lista negra de IPs (usar um SET é extremamente rápido para o 'in')\n",
    "ips_bloqueados = {\"192.168.1.10\", \"172.16.0.1\"} \n",
    "# Um Set (conjunto) oferece pesquisa de associação O(1) em média.\n",
    "\n",
    "# Processando cada IP\n",
    "for ip in ips_tentativa:\n",
    "    # Usando 'in' para verificar se o IP está bloqueado\n",
    "    if ip in ips_bloqueados:\n",
    "        print(f\"ALERTA: IP {ip} está na lista de bloqueados.\")\n",
    "    # Uso de 'not in' para processar apenas IPs permitidos\n",
    "    elif ip not in ips_bloqueados: \n",
    "        print(f\"IP {ip} verificado e permitido.\")"
   ]
  },
  {
   "cell_type": "markdown",
   "id": "0dfc2e0d",
   "metadata": {},
   "source": [
    "**Explicação Prática:** Para coleções grandes, a velocidade de verificação do `in` é importante. Para listas e tuplas, o Python pode ter que checar item por item (lento). Para conjuntos (`set`), o `in` é quase instantâneo, tornando-o ideal para verificações de associação de alta performance, como na filtragem de IPs ou palavras."
   ]
  }
 ],
 "metadata": {
  "kernelspec": {
   "display_name": ".venv (3.13.2)",
   "language": "python",
   "name": "python3"
  },
  "language_info": {
   "codemirror_mode": {
    "name": "ipython",
    "version": 3
   },
   "file_extension": ".py",
   "mimetype": "text/x-python",
   "name": "python",
   "nbconvert_exporter": "python",
   "pygments_lexer": "ipython3",
   "version": "3.13.2"
  }
 },
 "nbformat": 4,
 "nbformat_minor": 5
}
